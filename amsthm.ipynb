{
 "cells": [
  {
   "cell_type": "markdown",
   "metadata": {},
   "source": [
    "# Markdown Source"
   ]
  },
  {
   "cell_type": "code",
   "execution_count": 1,
   "metadata": {
    "collapsed": false
   },
   "outputs": [
    {
     "name": "stdout",
     "output_type": "stream",
     "text": [
      "Overwriting tests/demo.md\n"
     ]
    }
   ],
   "source": [
    "%%writefile tests/demo.md\n",
    "---\n",
    "amsthm:\n",
    "  plain:\n",
    "  - Theorem: [Lemma, Corollary]\n",
    "  - With Space*\n",
    "  - Proposition: Conjecture\n",
    "  - WithoutSpace\n",
    "  definition:\n",
    "  - Definition\n",
    "  remark:\n",
    "  - Case\n",
    "  parentcounter: chapter\n",
    "...\n",
    "\n",
    "<div class=\"Theorem\" info=\"within parenthesis\">\n",
    "plain theoremstyle here\n",
    "</div>\n",
    "\n",
    "<div class=\"Theorem\" id=\"simplestEquation\"}\n",
    "Label and reference:\n",
    "\n",
    "$$E=mc^2$$\n",
    "</div>\n",
    "\n",
    "From the \\ref{simplestEquation}, we see that...\n",
    "\n",
    "<div class=\"With Space\" info=\"within parenthesis\">\n",
    "Environment name has a space, and is unnumbered.\n",
    "</div>\n",
    "\n",
    "<div class=\"Lemma\" info=\"within parenthesis\">\n",
    "This one share counter with Theorem\n",
    "</div>\n",
    "\n",
    "<div class=\"Definition\" info=\"within parenthesis\">\n",
    "definition theoremstyle here\n",
    "</div>\n",
    "\n",
    "<div class=\"Case\" info=\"within parenthesis\">\n",
    "remark theoremstyle here\n",
    "</div>\n",
    "\n",
    "<div class=\"proof\" info=\"Proof of the Main Theorem\">\n",
    "Predefined proof theoremstyle here\n",
    "</div>\n"
   ]
  },
  {
   "cell_type": "markdown",
   "metadata": {},
   "source": [
    "## Shorter Markdown Source"
   ]
  },
  {
   "cell_type": "raw",
   "metadata": {
    "collapsed": false
   },
   "source": [
    "%%writefile tests/demo.md\n",
    "---\n",
    "key1:\n",
    "  key1-1:\n",
    "  - value1-1-1\n",
    "  - value1-1-2\n",
    "  key1-2:\n",
    "  - value1-2-1\n",
    "  - value1-2-2\n",
    "key2:\n",
    "  value1-2\n",
    "...\n"
   ]
  },
  {
   "cell_type": "markdown",
   "metadata": {},
   "source": [
    "## In native"
   ]
  },
  {
   "cell_type": "code",
   "execution_count": 2,
   "metadata": {
    "collapsed": false,
    "scrolled": true
   },
   "outputs": [
    {
     "name": "stdout",
     "output_type": "stream",
     "text": [
      "Pandoc (Meta {unMeta = fromList [(\"amsthm\",MetaMap (fromList [(\"definition\",MetaList [MetaInlines [Str \"Definition\"]]),(\"parentcounter\",MetaInlines [Str \"chapter\"]),(\"plain\",MetaList [MetaMap (fromList [(\"Theorem\",MetaList [MetaInlines [Str \"Lemma\"],MetaInlines [Str \"Corollary\"]])]),MetaInlines [Str \"With\",Space,Str \"Space*\"],MetaMap (fromList [(\"Proposition\",MetaInlines [Str \"Conjecture\"])]),MetaInlines [Str \"WithoutSpace\"]]),(\"remark\",MetaList [MetaInlines [Str \"Case\"]])]))]})\r\n",
      "[Div (\"\",[\"Theorem\"],[(\"info\",\"within parenthesis\")])\r\n",
      " [Para [Str \"plain\",Space,Str \"theoremstyle\",Space,Str \"here\"]]\r\n",
      ",RawBlock (Format \"html\") \"<div class=\\\"Theorem\\\" id=\\\"simplestEquation\\\"}\\nLabel and reference:\\n\\n$$E=mc^2$$\\n</div>\\n\"\r\n",
      ",Para [Str \"From\",Space,Str \"the\",Space,RawInline (Format \"tex\") \"\\\\ref{simplestEquation}\",Str \",\",Space,Str \"we\",Space,Str \"see\",Space,Str \"that...\"]\r\n",
      ",Div (\"\",[\"With\",\"Space\"],[(\"info\",\"within parenthesis\")])\r\n",
      " [Para [Str \"Environment\",Space,Str \"name\",Space,Str \"has\",Space,Str \"a\",Space,Str \"space,\",Space,Str \"and\",Space,Str \"is\",Space,Str \"unnumbered.\"]]\r\n",
      ",Div (\"\",[\"Lemma\"],[(\"info\",\"within parenthesis\")])\r\n",
      " [Para [Str \"This\",Space,Str \"one\",Space,Str \"share\",Space,Str \"counter\",Space,Str \"with\",Space,Str \"Theorem\"]]\r\n",
      ",Div (\"\",[\"Definition\"],[(\"info\",\"within parenthesis\")])\r\n",
      " [Para [Str \"definition\",Space,Str \"theoremstyle\",Space,Str \"here\"]]\r\n",
      ",Div (\"\",[\"Case\"],[(\"info\",\"within parenthesis\")])\r\n",
      " [Para [Str \"remark\",Space,Str \"theoremstyle\",Space,Str \"here\"]]\r\n",
      ",Div (\"\",[\"proof\"],[(\"info\",\"Proof of the Main Theorem\")])\r\n",
      " [Para [Str \"Predefined\",Space,Str \"proof\",Space,Str \"theoremstyle\",Space,Str \"here\"]]]\r\n"
     ]
    }
   ],
   "source": [
    "!pandoc -s -t native tests/demo.md"
   ]
  },
  {
   "cell_type": "markdown",
   "metadata": {},
   "source": [
    "## In JSON"
   ]
  },
  {
   "cell_type": "code",
   "execution_count": 3,
   "metadata": {
    "collapsed": false,
    "scrolled": true
   },
   "outputs": [
    {
     "name": "stdout",
     "output_type": "stream",
     "text": [
      "{\"blocks\":[{\"t\":\"Div\",\"c\":[[\"\",[\"Theorem\"],[[\"info\",\"within parenthesis\"]]],[{\"t\":\"Para\",\"c\":[{\"t\":\"Str\",\"c\":\"plain\"},{\"t\":\"Space\"},{\"t\":\"Str\",\"c\":\"theoremstyle\"},{\"t\":\"Space\"},{\"t\":\"Str\",\"c\":\"here\"}]}]]},{\"t\":\"RawBlock\",\"c\":[\"html\",\"<div class=\\\"Theorem\\\" id=\\\"simplestEquation\\\"}\\nLabel and reference:\\n\\n$$E=mc^2$$\\n</div>\\n\"]},{\"t\":\"Para\",\"c\":[{\"t\":\"Str\",\"c\":\"From\"},{\"t\":\"Space\"},{\"t\":\"Str\",\"c\":\"the\"},{\"t\":\"Space\"},{\"t\":\"RawInline\",\"c\":[\"tex\",\"\\\\ref{simplestEquation}\"]},{\"t\":\"Str\",\"c\":\",\"},{\"t\":\"Space\"},{\"t\":\"Str\",\"c\":\"we\"},{\"t\":\"Space\"},{\"t\":\"Str\",\"c\":\"see\"},{\"t\":\"Space\"},{\"t\":\"Str\",\"c\":\"that...\"}]},{\"t\":\"Div\",\"c\":[[\"\",[\"With\",\"Space\"],[[\"info\",\"within parenthesis\"]]],[{\"t\":\"Para\",\"c\":[{\"t\":\"Str\",\"c\":\"Environment\"},{\"t\":\"Space\"},{\"t\":\"Str\",\"c\":\"name\"},{\"t\":\"Space\"},{\"t\":\"Str\",\"c\":\"has\"},{\"t\":\"Space\"},{\"t\":\"Str\",\"c\":\"a\"},{\"t\":\"Space\"},{\"t\":\"Str\",\"c\":\"space,\"},{\"t\":\"Space\"},{\"t\":\"Str\",\"c\":\"and\"},{\"t\":\"Space\"},{\"t\":\"Str\",\"c\":\"is\"},{\"t\":\"Space\"},{\"t\":\"Str\",\"c\":\"unnumbered.\"}]}]]},{\"t\":\"Div\",\"c\":[[\"\",[\"Lemma\"],[[\"info\",\"within parenthesis\"]]],[{\"t\":\"Para\",\"c\":[{\"t\":\"Str\",\"c\":\"This\"},{\"t\":\"Space\"},{\"t\":\"Str\",\"c\":\"one\"},{\"t\":\"Space\"},{\"t\":\"Str\",\"c\":\"share\"},{\"t\":\"Space\"},{\"t\":\"Str\",\"c\":\"counter\"},{\"t\":\"Space\"},{\"t\":\"Str\",\"c\":\"with\"},{\"t\":\"Space\"},{\"t\":\"Str\",\"c\":\"Theorem\"}]}]]},{\"t\":\"Div\",\"c\":[[\"\",[\"Definition\"],[[\"info\",\"within parenthesis\"]]],[{\"t\":\"Para\",\"c\":[{\"t\":\"Str\",\"c\":\"definition\"},{\"t\":\"Space\"},{\"t\":\"Str\",\"c\":\"theoremstyle\"},{\"t\":\"Space\"},{\"t\":\"Str\",\"c\":\"here\"}]}]]},{\"t\":\"Div\",\"c\":[[\"\",[\"Case\"],[[\"info\",\"within parenthesis\"]]],[{\"t\":\"Para\",\"c\":[{\"t\":\"Str\",\"c\":\"remark\"},{\"t\":\"Space\"},{\"t\":\"Str\",\"c\":\"theoremstyle\"},{\"t\":\"Space\"},{\"t\":\"Str\",\"c\":\"here\"}]}]]},{\"t\":\"Div\",\"c\":[[\"\",[\"proof\"],[[\"info\",\"Proof of the Main Theorem\"]]],[{\"t\":\"Para\",\"c\":[{\"t\":\"Str\",\"c\":\"Predefined\"},{\"t\":\"Space\"},{\"t\":\"Str\",\"c\":\"proof\"},{\"t\":\"Space\"},{\"t\":\"Str\",\"c\":\"theoremstyle\"},{\"t\":\"Space\"},{\"t\":\"Str\",\"c\":\"here\"}]}]]}],\"pandoc-api-version\":[1,17,0,4],\"meta\":{\"amsthm\":{\"t\":\"MetaMap\",\"c\":{\"remark\":{\"t\":\"MetaList\",\"c\":[{\"t\":\"MetaInlines\",\"c\":[{\"t\":\"Str\",\"c\":\"Case\"}]}]},\"definition\":{\"t\":\"MetaList\",\"c\":[{\"t\":\"MetaInlines\",\"c\":[{\"t\":\"Str\",\"c\":\"Definition\"}]}]},\"plain\":{\"t\":\"MetaList\",\"c\":[{\"t\":\"MetaMap\",\"c\":{\"Theorem\":{\"t\":\"MetaList\",\"c\":[{\"t\":\"MetaInlines\",\"c\":[{\"t\":\"Str\",\"c\":\"Lemma\"}]},{\"t\":\"MetaInlines\",\"c\":[{\"t\":\"Str\",\"c\":\"Corollary\"}]}]}}},{\"t\":\"MetaInlines\",\"c\":[{\"t\":\"Str\",\"c\":\"With\"},{\"t\":\"Space\"},{\"t\":\"Str\",\"c\":\"Space*\"}]},{\"t\":\"MetaMap\",\"c\":{\"Proposition\":{\"t\":\"MetaInlines\",\"c\":[{\"t\":\"Str\",\"c\":\"Conjecture\"}]}}},{\"t\":\"MetaInlines\",\"c\":[{\"t\":\"Str\",\"c\":\"WithoutSpace\"}]}]},\"parentcounter\":{\"t\":\"MetaInlines\",\"c\":[{\"t\":\"Str\",\"c\":\"chapter\"}]}}}}}"
     ]
    }
   ],
   "source": [
    "!pandoc -s -t json tests/demo.md"
   ]
  },
  {
   "cell_type": "markdown",
   "metadata": {},
   "source": [
    "# panflute testing filter"
   ]
  },
  {
   "cell_type": "code",
   "execution_count": 4,
   "metadata": {
    "collapsed": false
   },
   "outputs": [
    {
     "name": "stdout",
     "output_type": "stream",
     "text": [
      "1.9.6\n"
     ]
    }
   ],
   "source": [
    "import panflute as pf\n",
    "print(pf.__version__)\n",
    "# pf.Doc.get_metadata?"
   ]
  },
  {
   "cell_type": "code",
   "execution_count": 5,
   "metadata": {
    "collapsed": false
   },
   "outputs": [
    {
     "name": "stdout",
     "output_type": "stream",
     "text": [
      "Overwriting amsthm.py\n"
     ]
    }
   ],
   "source": [
    "%%writefile amsthm.py\n",
    "#!/usr/bin/env python3\n",
    "\"\"\"\n",
    "Pandoc filter using panflute\n",
    "\"\"\"\n",
    "\n",
    "from collections import OrderedDict, ChainMap\n",
    "import panflute as pf\n",
    "import json\n",
    "\n",
    "\n",
    "def parse_metadata(eachStyle):\n",
    "    \"\"\"\n",
    "    Input: eachStyle is the metadata under the key of amsthm styles, i.e. plain, definition, or remark\n",
    "    Output:\n",
    "    environments: set of all environments\n",
    "    unnumbered: set of all unnumbered environments\n",
    "    counter_dict: a dictionary with keys as the environments and the values as the shared counter\n",
    "    counter: a dictionary with keys as the shared counter, and values as the counter (int), initialized as 0\n",
    "    shared_environments: a dictionary with keys as the shared counter, and values as all other environments using this counter\n",
    "    standalone_environments: a set of standalone environments (that do not share its counter)\n",
    "    \"\"\"\n",
    "    # initialize\n",
    "    environments = set()\n",
    "    unnumbered = set()\n",
    "    counter_dict = {}\n",
    "    counter = {}\n",
    "    shared_environments = {}\n",
    "    standalone_environments = set()\n",
    "    # parsing\n",
    "    for environment in eachStyle:\n",
    "        # check if it is a dict: hence numbered environments with shared counters\n",
    "        if isinstance(environment, dict):\n",
    "            for main, shared in environment.items():\n",
    "                environments.add(main)\n",
    "                counter_dict[main] = main\n",
    "                counter[main] = 0\n",
    "                # check if it is a string (1 item) or a list\n",
    "                if isinstance(shared, str):\n",
    "                    environments.add(shared)\n",
    "                    counter_dict[shared] = main\n",
    "                    shared_environments[main] = [shared]\n",
    "                else:\n",
    "                    environments.update(shared)\n",
    "                    for i in shared:\n",
    "                        counter_dict[i] = main\n",
    "                    shared_environments[main] = shared\n",
    "        # check if it is unnumbered\n",
    "        elif str(environment)[-1] == '*':\n",
    "            environment = str(environment)[0:-1]\n",
    "            environments.add(environment)\n",
    "            unnumbered.add(environment)\n",
    "        # else it is a numbered environment with unshared counter\n",
    "        else:\n",
    "            environment = str(environment)\n",
    "            environments.add(environment)\n",
    "            counter_dict[environment] = environment\n",
    "            counter[environment] = 0\n",
    "            standalone_environments.add(environment)\n",
    "    return environments, unnumbered, counter_dict, counter, shared_environments, standalone_environments\n",
    "\n",
    "\n",
    "def get_metadata(doc):\n",
    "    \"\"\"\n",
    "    Getting the metadata:\n",
    "\n",
    "    - doc.environments: set of all environments for matching the div\n",
    "    - doc.unnumbered: set of unnumbered environments for checking if counter is needed\n",
    "    - doc.counter_dict: dict to lookup the shared counter for each environment\n",
    "    - doc.counter: dict of shared counters\n",
    "    - doc.shared_environments: a dictionary with keys as the shared counter, and values as all other environments using this counter\n",
    "    - doc.standalone_environments: a set of standalone environments (that do not share its counter)\n",
    "    - doc.style: dicts of plain, definition, remark\n",
    "    - header level mapping to part/chapter/section @todo\n",
    "    \"\"\"\n",
    "    amsthm_metadata = doc.get_metadata('amsthm')\n",
    "    # parse each styles\n",
    "    all_parsed_metadata = {}\n",
    "    amsthm_style = ('plain', 'definition', 'remark')\n",
    "    for i in amsthm_style:\n",
    "        all_parsed_metadata[i] = parse_metadata(amsthm_metadata[i])\n",
    "    # store output in doc\n",
    "    # (0, 1, 2, 3, 4, 5) corresponds to (environments, unnumbered, counter_dict, counter, shared_environments, standalone_environments)\n",
    "    doc.environments = set().union(*[all_parsed_metadata[i][0] for i in amsthm_style])\n",
    "    doc.unnumbered = set().union(*[all_parsed_metadata[i][1] for i in amsthm_style])\n",
    "    doc.counter_dict = dict(ChainMap(*[all_parsed_metadata[i][2] for i in amsthm_style]))\n",
    "    doc.counter = dict(ChainMap(*[all_parsed_metadata[i][3] for i in amsthm_style]))\n",
    "    doc.shared_environments = dict(ChainMap(*[all_parsed_metadata[i][4] for i in amsthm_style]))\n",
    "    doc.standalone_environments = set().union(*[all_parsed_metadata[i][5] for i in amsthm_style])\n",
    "    doc.style = {i: all_parsed_metadata[i][0] for i in amsthm_style}\n",
    "    # get parent counter\n",
    "    doc.parentcounter = amsthm_metadata['parentcounter']\n",
    "\n",
    "\n",
    "def define_latex_enviroments(doc):\n",
    "    \"\"\"\n",
    "    For LaTeX output only, convert the metadata obtained in get_metadata to LaTeX amsthm environment's definition\n",
    "    \"\"\"\n",
    "    latex_amsthm_def = []\n",
    "    amsthm_style = ('plain', 'definition', 'remark')\n",
    "    for style in amsthm_style:\n",
    "        if doc.style[style]:\n",
    "            latex_amsthm_def += [r'\\theoremstyle{' + style + '}']\n",
    "            for i in doc.style[style]:\n",
    "                # unnumbered environment\n",
    "                if i in doc.unnumbered:\n",
    "                    latex_amsthm_def += [r'\\newtheorem*{' + i + '}{' + i + '}']\n",
    "                # numbered, standalone environment\n",
    "                elif i in doc.standalone_environments:\n",
    "                    latex_amsthm_def += [r'\\newtheorem{' + i + '}{' + i + '}[' + doc.parentcounter + ']']\n",
    "                # numbered, shared environments\n",
    "                elif i in doc.shared_environments:\n",
    "                    latex_amsthm_def += [r'\\newtheorem{' + i + '}{' + i + '}[' + doc.parentcounter + ']']\n",
    "                    for shared in doc.shared_environments[i]:\n",
    "                        latex_amsthm_def += [r'\\newtheorem{' + shared + '}['+ i + ']{' + shared + '}']\n",
    "    doc.content.insert(0, pf.RawBlock('\\n'.join(latex_amsthm_def), format='latex'))\n",
    "\n",
    "def prepare(doc):\n",
    "    get_metadata(doc)\n",
    "    if doc.format == 'latex':\n",
    "        define_latex_enviroments(doc)\n",
    "\n",
    "\n",
    "def amsthm(elem, doc):\n",
    "    pass\n",
    "\n",
    "\n",
    "def finalize(doc):\n",
    "#     print('doc.environments:', doc.environments)\n",
    "#     print('doc.unnumbered:', doc.unnumbered)\n",
    "#     print('doc.counter_dict:', doc.counter_dict)\n",
    "#     print('doc.counter:', doc.counter)\n",
    "#     print('doc.shared_environments:', doc.shared_environments)\n",
    "#     print('doc.style:', doc.style)\n",
    "#     print('doc.parentcounter:', doc.parentcounter)\n",
    "    pass\n",
    "\n",
    "\n",
    "def main(doc=None):\n",
    "    return pf.run_filter(amsthm,\n",
    "                         prepare=prepare,\n",
    "                         finalize=finalize,\n",
    "                         doc=doc) \n",
    "\n",
    "\n",
    "if __name__ == '__main__':\n",
    "    main()"
   ]
  },
  {
   "cell_type": "code",
   "execution_count": 6,
   "metadata": {
    "collapsed": true
   },
   "outputs": [],
   "source": [
    "!chmod +x amsthm.py"
   ]
  },
  {
   "cell_type": "markdown",
   "metadata": {},
   "source": [
    "## Output"
   ]
  },
  {
   "cell_type": "code",
   "execution_count": 7,
   "metadata": {
    "collapsed": false
   },
   "outputs": [
    {
     "name": "stdout",
     "output_type": "stream",
     "text": [
      "{\"pandoc-api-version\":[1,17,0,4],\"meta\":{\"amsthm\":{\"t\":\"MetaMap\",\"c\":{\"remark\":{\"t\":\"MetaList\",\"c\":[{\"t\":\"MetaInlines\",\"c\":[{\"t\":\"Str\",\"c\":\"Case\"}]}]},\"definition\":{\"t\":\"MetaList\",\"c\":[{\"t\":\"MetaInlines\",\"c\":[{\"t\":\"Str\",\"c\":\"Definition\"}]}]},\"plain\":{\"t\":\"MetaList\",\"c\":[{\"t\":\"MetaMap\",\"c\":{\"Theorem\":{\"t\":\"MetaList\",\"c\":[{\"t\":\"MetaInlines\",\"c\":[{\"t\":\"Str\",\"c\":\"Lemma\"}]},{\"t\":\"MetaInlines\",\"c\":[{\"t\":\"Str\",\"c\":\"Corollary\"}]}]}}},{\"t\":\"MetaInlines\",\"c\":[{\"t\":\"Str\",\"c\":\"With\"},{\"t\":\"Space\"},{\"t\":\"Str\",\"c\":\"Space*\"}]},{\"t\":\"MetaMap\",\"c\":{\"Proposition\":{\"t\":\"MetaInlines\",\"c\":[{\"t\":\"Str\",\"c\":\"Conjecture\"}]}}},{\"t\":\"MetaInlines\",\"c\":[{\"t\":\"Str\",\"c\":\"WithoutSpace\"}]}]},\"parentcounter\":{\"t\":\"MetaInlines\",\"c\":[{\"t\":\"Str\",\"c\":\"chapter\"}]}}}},\"blocks\":[{\"t\":\"Div\",\"c\":[[\"\",[\"Theorem\"],[[\"info\",\"within parenthesis\"]]],[{\"t\":\"Para\",\"c\":[{\"t\":\"Str\",\"c\":\"plain\"},{\"t\":\"Space\"},{\"t\":\"Str\",\"c\":\"theoremstyle\"},{\"t\":\"Space\"},{\"t\":\"Str\",\"c\":\"here\"}]}]]},{\"t\":\"RawBlock\",\"c\":[\"html\",\"<div class=\\\"Theorem\\\" id=\\\"simplestEquation\\\"}\\nLabel and reference:\\n\\n$$E=mc^2$$\\n</div>\\n\"]},{\"t\":\"Para\",\"c\":[{\"t\":\"Str\",\"c\":\"From\"},{\"t\":\"Space\"},{\"t\":\"Str\",\"c\":\"the\"},{\"t\":\"Space\"},{\"t\":\"RawInline\",\"c\":[\"tex\",\"\\\\ref{simplestEquation}\"]},{\"t\":\"Str\",\"c\":\",\"},{\"t\":\"Space\"},{\"t\":\"Str\",\"c\":\"we\"},{\"t\":\"Space\"},{\"t\":\"Str\",\"c\":\"see\"},{\"t\":\"Space\"},{\"t\":\"Str\",\"c\":\"that...\"}]},{\"t\":\"Div\",\"c\":[[\"\",[\"With\",\"Space\"],[[\"info\",\"within parenthesis\"]]],[{\"t\":\"Para\",\"c\":[{\"t\":\"Str\",\"c\":\"Environment\"},{\"t\":\"Space\"},{\"t\":\"Str\",\"c\":\"name\"},{\"t\":\"Space\"},{\"t\":\"Str\",\"c\":\"has\"},{\"t\":\"Space\"},{\"t\":\"Str\",\"c\":\"a\"},{\"t\":\"Space\"},{\"t\":\"Str\",\"c\":\"space,\"},{\"t\":\"Space\"},{\"t\":\"Str\",\"c\":\"and\"},{\"t\":\"Space\"},{\"t\":\"Str\",\"c\":\"is\"},{\"t\":\"Space\"},{\"t\":\"Str\",\"c\":\"unnumbered.\"}]}]]},{\"t\":\"Div\",\"c\":[[\"\",[\"Lemma\"],[[\"info\",\"within parenthesis\"]]],[{\"t\":\"Para\",\"c\":[{\"t\":\"Str\",\"c\":\"This\"},{\"t\":\"Space\"},{\"t\":\"Str\",\"c\":\"one\"},{\"t\":\"Space\"},{\"t\":\"Str\",\"c\":\"share\"},{\"t\":\"Space\"},{\"t\":\"Str\",\"c\":\"counter\"},{\"t\":\"Space\"},{\"t\":\"Str\",\"c\":\"with\"},{\"t\":\"Space\"},{\"t\":\"Str\",\"c\":\"Theorem\"}]}]]},{\"t\":\"Div\",\"c\":[[\"\",[\"Definition\"],[[\"info\",\"within parenthesis\"]]],[{\"t\":\"Para\",\"c\":[{\"t\":\"Str\",\"c\":\"definition\"},{\"t\":\"Space\"},{\"t\":\"Str\",\"c\":\"theoremstyle\"},{\"t\":\"Space\"},{\"t\":\"Str\",\"c\":\"here\"}]}]]},{\"t\":\"Div\",\"c\":[[\"\",[\"Case\"],[[\"info\",\"within parenthesis\"]]],[{\"t\":\"Para\",\"c\":[{\"t\":\"Str\",\"c\":\"remark\"},{\"t\":\"Space\"},{\"t\":\"Str\",\"c\":\"theoremstyle\"},{\"t\":\"Space\"},{\"t\":\"Str\",\"c\":\"here\"}]}]]},{\"t\":\"Div\",\"c\":[[\"\",[\"proof\"],[[\"info\",\"Proof of the Main Theorem\"]]],[{\"t\":\"Para\",\"c\":[{\"t\":\"Str\",\"c\":\"Predefined\"},{\"t\":\"Space\"},{\"t\":\"Str\",\"c\":\"proof\"},{\"t\":\"Space\"},{\"t\":\"Str\",\"c\":\"theoremstyle\"},{\"t\":\"Space\"},{\"t\":\"Str\",\"c\":\"here\"}]}]]}]}"
     ]
    }
   ],
   "source": [
    "!pandoc -s -t json tests/demo.md | ./amsthm.py"
   ]
  },
  {
   "cell_type": "code",
   "execution_count": 8,
   "metadata": {
    "collapsed": false
   },
   "outputs": [
    {
     "name": "stdout",
     "output_type": "stream",
     "text": [
      "\\theoremstyle{plain}\r\n",
      "\\newtheorem*{With Space}{With Space}\r\n",
      "\\newtheorem{Proposition}{Proposition}[chapter]\r\n",
      "\\newtheorem{Conjecture}[Proposition]{Conjecture}\r\n",
      "\\newtheorem{WithoutSpace}{WithoutSpace}[chapter]\r\n",
      "\\newtheorem{Theorem}{Theorem}[chapter]\r\n",
      "\\newtheorem{Lemma}[Theorem]{Lemma}\r\n",
      "\\newtheorem{Corollary}[Theorem]{Corollary}\r\n",
      "\\theoremstyle{definition}\r\n",
      "\\newtheorem{Definition}{Definition}[chapter]\r\n",
      "\\theoremstyle{remark}\r\n",
      "\\newtheorem{Case}{Case}[chapter]\r\n",
      "\r\n",
      "plain theoremstyle here\r\n",
      "\r\n",
      "From the \\ref{simplestEquation}, we see that\\ldots{}\r\n",
      "\r\n",
      "Environment name has a space, and is unnumbered.\r\n",
      "\r\n",
      "This one share counter with Theorem\r\n",
      "\r\n",
      "definition theoremstyle here\r\n",
      "\r\n",
      "remark theoremstyle here\r\n",
      "\r\n",
      "Predefined proof theoremstyle here\r\n"
     ]
    }
   ],
   "source": [
    "!pandoc -t latex tests/demo.md -F ./amsthm.py"
   ]
  },
  {
   "cell_type": "markdown",
   "metadata": {},
   "source": [
    "# YAML Test"
   ]
  },
  {
   "cell_type": "code",
   "execution_count": 9,
   "metadata": {
    "collapsed": true
   },
   "outputs": [],
   "source": [
    "YAML = \"\"\"\n",
    "amsthm:\n",
    "  plain:\n",
    "  - Theorem: Lemma\n",
    "  - With Space*\n",
    "  definition:\n",
    "  - Definition\n",
    "  remark:\n",
    "  - Case\n",
    "  parentcounter:\n",
    "  - chapter\n",
    "\"\"\""
   ]
  },
  {
   "cell_type": "code",
   "execution_count": 10,
   "metadata": {
    "collapsed": false
   },
   "outputs": [],
   "source": [
    "import yaml"
   ]
  },
  {
   "cell_type": "code",
   "execution_count": 11,
   "metadata": {
    "collapsed": false
   },
   "outputs": [
    {
     "name": "stdout",
     "output_type": "stream",
     "text": [
      "{'amsthm': {'parentcounter': ['chapter'], 'definition': ['Definition'], 'remark': ['Case'], 'plain': [{'Theorem': 'Lemma'}, 'With Space*']}}\n"
     ]
    }
   ],
   "source": [
    "options = yaml.load(YAML)\n",
    "print(options)"
   ]
  },
  {
   "cell_type": "code",
   "execution_count": 12,
   "metadata": {
    "collapsed": false
   },
   "outputs": [
    {
     "data": {
      "text/plain": [
       "{'definition': ['Definition'],\n",
       " 'parentcounter': ['chapter'],\n",
       " 'plain': [{'Theorem': 'Lemma'}, 'With Space*'],\n",
       " 'remark': ['Case']}"
      ]
     },
     "execution_count": 12,
     "metadata": {},
     "output_type": "execute_result"
    }
   ],
   "source": [
    "options['amsthm']"
   ]
  }
 ],
 "metadata": {
  "kernelspec": {
   "display_name": "Python 3",
   "language": "python",
   "name": "python3"
  },
  "language_info": {
   "codemirror_mode": {
    "name": "ipython",
    "version": 3
   },
   "file_extension": ".py",
   "mimetype": "text/x-python",
   "name": "python",
   "nbconvert_exporter": "python",
   "pygments_lexer": "ipython3",
   "version": "3.5.2"
  }
 },
 "nbformat": 4,
 "nbformat_minor": 2
}
