{
 "cells": [
  {
   "cell_type": "markdown",
   "metadata": {},
   "source": [
    "# Markdown Source"
   ]
  },
  {
   "cell_type": "code",
   "execution_count": 1,
   "metadata": {
    "collapsed": false
   },
   "outputs": [
    {
     "name": "stdout",
     "output_type": "stream",
     "text": [
      "Overwriting tests/demo.md\n"
     ]
    }
   ],
   "source": [
    "%%writefile tests/demo.md\n",
    "---\n",
    "amsthm:\n",
    "  plain:\n",
    "  - Theorem\n",
    "  plain-unnumbered:\n",
    "  - Lemma\n",
    "  - Proposition\n",
    "  - Corollary\n",
    "  definition:\n",
    "  - Definition\n",
    "  - Conjecture\n",
    "  - Example\n",
    "  - Postulate\n",
    "  - Problem\n",
    "  remark:\n",
    "  - Case\n",
    "  remark-unnumbered:\n",
    "  - Remark\n",
    "  - Note\n",
    "  proof:\n",
    "  - proof\n",
    "  parentcounter:\n",
    "  - chapter\n",
    "...\n",
    "\n",
    "<div class=\"Theorem\">\n",
    "\n",
    "$$E=mc^2$$\n",
    "\n",
    "</div>\n",
    "\n",
    "<div class=\"proof\">\n",
    "\n",
    "$$a^n+b^n=c^n$$\n",
    "\n",
    "What, you don't know how to prove this?\n",
    "\n",
    "</div>"
   ]
  },
  {
   "cell_type": "markdown",
   "metadata": {},
   "source": [
    "## Shorter Markdown Source"
   ]
  },
  {
   "cell_type": "code",
   "execution_count": 2,
   "metadata": {
    "collapsed": false
   },
   "outputs": [
    {
     "name": "stdout",
     "output_type": "stream",
     "text": [
      "Overwriting tests/demo.md\n"
     ]
    }
   ],
   "source": [
    "%%writefile tests/demo.md\n",
    "---\n",
    "amsthm:\n",
    "  1level2:\n",
    "  - 1level3\n",
    "  - 2level3\n",
    "  2level2:\n",
    "  - 3level3\n",
    "  - 4level3\n",
    "2level1:\n",
    "  3level3\n",
    "...\n"
   ]
  },
  {
   "cell_type": "markdown",
   "metadata": {},
   "source": [
    "## In native"
   ]
  },
  {
   "cell_type": "code",
   "execution_count": 3,
   "metadata": {
    "collapsed": false,
    "scrolled": true
   },
   "outputs": [
    {
     "name": "stdout",
     "output_type": "stream",
     "text": [
      "Pandoc (Meta {unMeta = fromList [(\"2level1\",MetaInlines [Str \"3level3\"]),(\"amsthm\",MetaMap (fromList [(\"1level2\",MetaList [MetaInlines [Str \"1level3\"],MetaInlines [Str \"2level3\"]]),(\"2level2\",MetaList [MetaInlines [Str \"3level3\"],MetaInlines [Str \"4level3\"]])]))]})\r\n",
      "[]\r\n"
     ]
    }
   ],
   "source": [
    "!pandoc -s -t native tests/demo.md"
   ]
  },
  {
   "cell_type": "markdown",
   "metadata": {},
   "source": [
    "## In JSON"
   ]
  },
  {
   "cell_type": "code",
   "execution_count": 4,
   "metadata": {
    "collapsed": false,
    "scrolled": true
   },
   "outputs": [
    {
     "name": "stdout",
     "output_type": "stream",
     "text": [
      "{\"blocks\":[],\"pandoc-api-version\":[1,17,0,4],\"meta\":{\"amsthm\":{\"t\":\"MetaMap\",\"c\":{\"1level2\":{\"t\":\"MetaList\",\"c\":[{\"t\":\"MetaInlines\",\"c\":[{\"t\":\"Str\",\"c\":\"1level3\"}]},{\"t\":\"MetaInlines\",\"c\":[{\"t\":\"Str\",\"c\":\"2level3\"}]}]},\"2level2\":{\"t\":\"MetaList\",\"c\":[{\"t\":\"MetaInlines\",\"c\":[{\"t\":\"Str\",\"c\":\"3level3\"}]},{\"t\":\"MetaInlines\",\"c\":[{\"t\":\"Str\",\"c\":\"4level3\"}]}]}}},\"2level1\":{\"t\":\"MetaInlines\",\"c\":[{\"t\":\"Str\",\"c\":\"3level3\"}]}}}"
     ]
    }
   ],
   "source": [
    "!pandoc -s -t json tests/demo.md"
   ]
  },
  {
   "cell_type": "markdown",
   "metadata": {},
   "source": [
    "# panflute testing filter"
   ]
  },
  {
   "cell_type": "code",
   "execution_count": 5,
   "metadata": {
    "collapsed": true
   },
   "outputs": [],
   "source": [
    "import panflute\n",
    "panflute.elements.MetaMap?"
   ]
  },
  {
   "cell_type": "code",
   "execution_count": 6,
   "metadata": {
    "collapsed": false
   },
   "outputs": [
    {
     "name": "stdout",
     "output_type": "stream",
     "text": [
      "Overwriting test.py\n"
     ]
    }
   ],
   "source": [
    "%%writefile test.py\n",
    "#!/usr/bin/env python3\n",
    "\"\"\"\n",
    "Pandoc filter using panflute\n",
    "\"\"\"\n",
    "\n",
    "import panflute as pf\n",
    "\n",
    "\n",
    "def prepare(doc):\n",
    "    pass\n",
    "\n",
    "\n",
    "def action(elem, doc):\n",
    "    for i in doc.content:\n",
    "        print(type(i))\n",
    "#     if isinstance(elem, pf.MetaMap) and 'amsthm' in elem.content:\n",
    "#         elem.content['amsthm'].walk(print, doc)\n",
    "\n",
    "#     if isinstance(elem, pf.MetaMap):\n",
    "#         print(elem)\n",
    "#         print(elem.next)\n",
    "#     if isinstance(elem, pf.MetaMap):\n",
    "#         print(elem)\n",
    "\n",
    "\n",
    "def finalize(doc):\n",
    "    pass\n",
    "\n",
    "\n",
    "def main(doc=None):\n",
    "\treturn pf.run_filter(action,\n",
    "\t                     prepare=prepare,\n",
    "\t                     finalize=finalize,\n",
    "\t                     doc=doc) \n",
    "\n",
    "\n",
    "if __name__ == '__main__':\n",
    "    main()"
   ]
  },
  {
   "cell_type": "code",
   "execution_count": 7,
   "metadata": {
    "collapsed": true
   },
   "outputs": [],
   "source": [
    "!chmod +x test.py"
   ]
  },
  {
   "cell_type": "markdown",
   "metadata": {},
   "source": [
    "## Output"
   ]
  },
  {
   "cell_type": "code",
   "execution_count": 8,
   "metadata": {
    "collapsed": false
   },
   "outputs": [
    {
     "name": "stdout",
     "output_type": "stream",
     "text": [
      "{\"pandoc-api-version\":[1,17,0,4],\"meta\":{\"amsthm\":{\"t\":\"MetaMap\",\"c\":{\"1level2\":{\"t\":\"MetaList\",\"c\":[{\"t\":\"MetaInlines\",\"c\":[{\"t\":\"Str\",\"c\":\"1level3\"}]},{\"t\":\"MetaInlines\",\"c\":[{\"t\":\"Str\",\"c\":\"2level3\"}]}]},\"2level2\":{\"t\":\"MetaList\",\"c\":[{\"t\":\"MetaInlines\",\"c\":[{\"t\":\"Str\",\"c\":\"3level3\"}]},{\"t\":\"MetaInlines\",\"c\":[{\"t\":\"Str\",\"c\":\"4level3\"}]}]}}},\"2level1\":{\"t\":\"MetaInlines\",\"c\":[{\"t\":\"Str\",\"c\":\"3level3\"}]}},\"blocks\":[]}"
     ]
    }
   ],
   "source": [
    "!pandoc -s -t json tests/demo.md | ./test.py"
   ]
  },
  {
   "cell_type": "markdown",
   "metadata": {},
   "source": [
    "# YAML Test"
   ]
  },
  {
   "cell_type": "code",
   "execution_count": 13,
   "metadata": {
    "collapsed": true
   },
   "outputs": [],
   "source": [
    "YAML = \"\"\"amsthm:\n",
    "amsthm:\n",
    "  plain:\n",
    "  - Theorem: Lemma\n",
    "  - With Space*\n",
    "  definition:\n",
    "  - Definition\n",
    "  remark:\n",
    "  - Case\n",
    "  parentcounter:\n",
    "  - chapter\n",
    "\"\"\""
   ]
  },
  {
   "cell_type": "code",
   "execution_count": 14,
   "metadata": {
    "collapsed": false
   },
   "outputs": [],
   "source": [
    "import yaml"
   ]
  },
  {
   "cell_type": "code",
   "execution_count": 15,
   "metadata": {
    "collapsed": false
   },
   "outputs": [
    {
     "name": "stdout",
     "output_type": "stream",
     "text": [
      "{'amsthm': {'remark': ['Case'], 'parentcounter': ['chapter'], 'definition': ['Definition'], 'plain': [{'Theorem': 'Lemma'}, 'With Space*']}}\n"
     ]
    }
   ],
   "source": [
    "options = yaml.load(YAML)\n",
    "print(options)"
   ]
  },
  {
   "cell_type": "code",
   "execution_count": 16,
   "metadata": {
    "collapsed": false
   },
   "outputs": [
    {
     "data": {
      "text/plain": [
       "{'definition': ['Definition'],\n",
       " 'parentcounter': ['chapter'],\n",
       " 'plain': [{'Theorem': 'Lemma'}, 'With Space*'],\n",
       " 'remark': ['Case']}"
      ]
     },
     "execution_count": 16,
     "metadata": {},
     "output_type": "execute_result"
    }
   ],
   "source": [
    "options['amsthm']"
   ]
  }
 ],
 "metadata": {
  "kernelspec": {
   "display_name": "Python 3",
   "language": "python",
   "name": "python3"
  },
  "language_info": {
   "codemirror_mode": {
    "name": "ipython",
    "version": 3
   },
   "file_extension": ".py",
   "mimetype": "text/x-python",
   "name": "python",
   "nbconvert_exporter": "python",
   "pygments_lexer": "ipython3",
   "version": "3.5.2"
  }
 },
 "nbformat": 4,
 "nbformat_minor": 2
}
